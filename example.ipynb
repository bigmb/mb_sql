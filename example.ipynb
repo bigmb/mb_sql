{
 "cells": [
  {
   "attachments": {},
   "cell_type": "markdown",
   "metadata": {},
   "source": [
    "## Joining a DB"
   ]
  },
  {
   "cell_type": "code",
   "execution_count": 1,
   "metadata": {},
   "outputs": [],
   "source": [
    "from mb_sql.conn import get_engine, get_session, get_base, get_metadata, engine_execute"
   ]
  },
  {
   "cell_type": "code",
   "execution_count": 2,
   "metadata": {},
   "outputs": [
    {
     "name": "stderr",
     "output_type": "stream",
     "text": [
      "Tue 11:44:27,652 INF Engine created for postgresql database.                                                                         \n",
      "Tue 11:44:27,655 INF Session created for postgres database.                                                                          \n",
      "Tue 11:44:27,658 INF Base created for database.                                                                                      \n",
      "Tue 11:44:27,672 INF Metadata created for database.                                                                                  \n"
     ]
    }
   ],
   "source": [
    "conn = get_engine(name='postgresql' , db= 'postgres', user='postgres' , password= 'postgres', host= 'localhost', port= 5432, echo=False)\n",
    "session = get_session(conn)\n",
    "base = get_base()\n",
    "metadata= get_metadata(base,conn)"
   ]
  },
  {
   "cell_type": "code",
   "execution_count": 15,
   "metadata": {},
   "outputs": [],
   "source": [
    "a = engine_execute(conn,'CREATE TABLE IF NOT EXISTS test3 (id serial PRIMARY KEY, num integer, data varchar);')"
   ]
  },
  {
   "cell_type": "code",
   "execution_count": 21,
   "metadata": {},
   "outputs": [],
   "source": [
    "b = engine_execute(conn,\"INSERT INTO test3(id,num, data) VALUES (1,100, 'abc')\")"
   ]
  },
  {
   "cell_type": "code",
   "execution_count": 26,
   "metadata": {},
   "outputs": [
    {
     "name": "stdout",
     "output_type": "stream",
     "text": [
      "[(1, 100, 'abc')]\n",
      "[('dave', 12), ('lave', 32), ('read', 54)]\n"
     ]
    }
   ],
   "source": [
    "c = engine_execute(conn,\"SELECT * FROM test3;\")\n",
    "d = engine_execute(conn,\"SELECT * FROM test2;\")\n",
    "print(c.fetchall())\n",
    "print(d.fetchall())"
   ]
  },
  {
   "cell_type": "code",
   "execution_count": null,
   "metadata": {},
   "outputs": [],
   "source": []
  },
  {
   "cell_type": "code",
   "execution_count": null,
   "metadata": {},
   "outputs": [],
   "source": []
  }
 ],
 "metadata": {
  "kernelspec": {
   "display_name": "Python 3",
   "language": "python",
   "name": "python3"
  },
  "language_info": {
   "codemirror_mode": {
    "name": "ipython",
    "version": 3
   },
   "file_extension": ".py",
   "mimetype": "text/x-python",
   "name": "python",
   "nbconvert_exporter": "python",
   "pygments_lexer": "ipython3",
   "version": "3.8.10"
  },
  "orig_nbformat": 4,
  "vscode": {
   "interpreter": {
    "hash": "31f2aee4e71d21fbe5cf8b01ff0e069b9275f58929596ceb00d14d90e3e16cd6"
   }
  }
 },
 "nbformat": 4,
 "nbformat_minor": 2
}
